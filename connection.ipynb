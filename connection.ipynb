{
 "cells": [
  {
   "cell_type": "code",
   "execution_count": 1,
   "id": "c2935c60-6225-43ff-a566-880dca435050",
   "metadata": {},
   "outputs": [],
   "source": [
    "# imports\n",
    "\n",
    "import os\n",
    "import requests\n",
    "from dotenv import load_dotenv\n",
    "from bs4 import BeautifulSoup\n",
    "from IPython.display import Markdown, display\n",
    "from openai import OpenAI"
   ]
  },
  {
   "cell_type": "code",
   "execution_count": 2,
   "id": "960addae-8af5-43d9-b57a-3e90a57d9777",
   "metadata": {},
   "outputs": [
    {
     "name": "stdout",
     "output_type": "stream",
     "text": [
      "API key found and looks good so far!\n"
     ]
    }
   ],
   "source": [
    "load_dotenv(override=True)\n",
    "api_key = os.getenv('OPENAI_API_KEY')\n",
    "\n",
    "# Check the key\n",
    "\n",
    "if not api_key:\n",
    "    print(\"No API key was found!\")\n",
    "elif not api_key.startswith(\"sk-proj-\"):\n",
    "    print(\"An API key was found, but it doesn't start sk-proj-\")\n",
    "elif api_key.strip() != api_key:\n",
    "    print(\"An API key was found, but it looks like it might have space or tab characters at the start or end - please remove them\")\n",
    "else:\n",
    "    print(\"API key found and looks good so far!\")\n"
   ]
  },
  {
   "cell_type": "code",
   "execution_count": 13,
   "id": "e038677a-ad89-4851-bf6d-9b483ae5a893",
   "metadata": {},
   "outputs": [],
   "source": [
    "# mapping it to the OpenAI that is imported\n",
    "openai = OpenAI()"
   ]
  },
  {
   "cell_type": "code",
   "execution_count": 78,
   "id": "7b7dfd0c-d8b9-4f73-b666-4b76fe662023",
   "metadata": {},
   "outputs": [
    {
     "name": "stdout",
     "output_type": "stream",
     "text": [
      "There are several calorie tracking apps available that are similar to CalorieGram. Here are some of the best options:\n",
      "\n",
      "1. **MyFitnessPal**: One of the most popular calorie tracking apps, MyFitnessPal offers a vast database of foods, a barcode scanner for easy entry, and robust tracking features for calories, macronutrients, and exercise.\n",
      "\n",
      "2. **Lose It!**: This app provides a straightforward way to track your food intake and exercise. You can set goals for weight loss, gain, or maintenance and enjoy a user-friendly interface.\n",
      "\n",
      "3. **Cronometer**: Known for its emphasis on nutrition, Cronometer not only tracks calories but also provides detailed insights into vitamin and mineral intake. It's a good option for those who are health-conscious.\n",
      "\n",
      "4. **FatSecret**: This app includes a food diary, exercise log, and a community for support. It features a barcode scanner and includes a variety of foods in its database.\n",
      "\n",
      "5. **SparkPeople**: In addition to tracking calories, SparkPeople offers meal plans, recipes, and an active community for motivation and support. It's a comprehensive tool for health and fitness.\n",
      "\n",
      "6. **Calory**: A simple and minimalistic calorie tracking app that allows you to log your food, track your macros, and set reminders to keep you on track.\n",
      "\n",
      "7. **Yummly**: While primarily a recipe app, Yummly has a feature that allows users to log food intake and track calories while discovering new recipes.\n",
      "\n",
      "8. **Lifesum**: This app offers meal plans, recipes, and a food diary, along with personalized nutrition advice and calorie tracking.\n",
      "\n",
      "Each of these apps has its own unique features, so it might be worth trying a few to see which one aligns best with your dietary and tracking needs!\n"
     ]
    }
   ],
   "source": [
    "message = \"Give me best calorie tracking app like caloriegram\"\n",
    "response = openai.chat.completions.create(model=\"gpt-4o-mini\", messages=[{\"role\":\"user\", \"content\":message}])\n",
    "print(response.choices[0].message.content)"
   ]
  },
  {
   "cell_type": "code",
   "execution_count": 19,
   "id": "5f382c2c-7180-447e-acbd-9d31063dc594",
   "metadata": {},
   "outputs": [
    {
     "name": "stdout",
     "output_type": "stream",
     "text": [
      "{'User-Agent': 'Mozilla/5.0 (Windows NT 10.0; Win64; x64) AppleWebKit/537.36 (KHTML, like Gecko) Chrome/117.0.0.0 Safari/537.36'}\n"
     ]
    }
   ],
   "source": [
    "headers = {\n",
    " \"User-Agent\": \"Mozilla/5.0 (Windows NT 10.0; Win64; x64) AppleWebKit/537.36 (KHTML, like Gecko) Chrome/117.0.0.0 Safari/537.36\"\n",
    "}\n",
    "print(headers)\n",
    "\n",
    "class Website:\n",
    "\n",
    "    def __init__(self, url):\n",
    "        \"\"\"\n",
    "        Create this Website object from the given url using the BeautifulSoup library\n",
    "        \"\"\"\n",
    "        self.url = url\n",
    "        response = requests.get(url, headers=headers)\n",
    "        soup = BeautifulSoup(response.content, 'html.parser')\n",
    "        self.title = soup.title.string if soup.title else \"No title found\"\n",
    "        for irrelevant in soup.body([\"script\", \"style\", \"img\", \"input\"]):\n",
    "            irrelevant.decompose()\n",
    "        self.text = soup.body.get_text(separator=\"\\n\", strip=True)"
   ]
  },
  {
   "cell_type": "code",
   "execution_count": 26,
   "id": "a5981da4-160a-48fa-9df5-31663db09c6d",
   "metadata": {},
   "outputs": [
    {
     "name": "stdout",
     "output_type": "stream",
     "text": [
      "CalorieGram AI - Track Calories with AI\n",
      "Skip to main content\n",
      "Calorie\n",
      "Gram\n",
      "AI\n",
      "Features\n",
      "Pricing\n",
      "Compare\n",
      "Blog\n",
      "Recipes\n",
      "FAQ\n",
      "Contact\n",
      "Download\n",
      "Features\n",
      "Pricing\n",
      "Compare\n",
      "Blog\n",
      "Recipes\n",
      "FAQ\n",
      "Contact\n",
      "Download CalorieGram AI\n",
      "Ready to transform your nutrition?\n",
      "Join 500+ users this week\n",
      "Get Started Free\n",
      "AI-Powered Nutrition Tracking\n",
      "Eat Smart,\n",
      "Live\n",
      "Healthy\n",
      "Transform your relationship with food using AI that understands nutrition as well as you understand yourself.\n",
      "Track 45+ nutrients instantly\n",
      "Get personalized meal suggestions\n",
      "Predict health outcomes\n",
      "Start Your Journey\n",
      "See How It Works\n",
      "4.8 from early adopters\n",
      "Join 500+ health enthusiasts this week\n",
      "End-to-end Encrypted\n",
      "Track Healthy Meals\n",
      "Log nutritious foods like salmon & veggies\n",
      "Salmon & Veggies\n",
      "705 calories\n",
      "High Protein\n",
      "52.2g tracked\n",
      "Scan Food\n",
      "Voice Log\n",
      "How CalorieGram AI\n",
      "Works\n",
      "Three simple steps to transform your nutrition tracking experience\n",
      "1\n",
      "Snap Your Meal\n",
      "Take a photo, scan a barcode, or use voice to log your food. Our AI instantly recognizes ingredients and portions.\n",
      "Learn more\n",
      "2\n",
      "Get AI Insights\n",
      "Receive detailed nutritional analysis of 45+ nutrients. Our AI provides personalized recommendations based on your health goals.\n",
      "3\n",
      "Track Progress\n",
      "Monitor your health signals, predict outcomes, and see how your nutrition affects energy, sleep, and wellbeing.\n",
      "Snap Your Meal\n",
      "Step\n",
      "1\n",
      "of 3\n",
      "AI Processing\n",
      "95% Accuracy\n",
      "Ready to experience the future of nutrition tracking?\n",
      "Start Your Free Trial\n",
      "Nutrition tracking that\n",
      "feels magical\n",
      "Our AI doesn't just count calories—it understands your unique nutritional needs and helps you thrive\n",
      "Snap & Track\n",
      "Take a photo of any meal and get instant nutritional insights powered by advanced AI\n",
      "Learn more\n",
      "Most Popular\n",
      "Voice Logging\n",
      "Simply speak what you ate—supports 45+ languages for global users\n",
      "Learn more\n",
      "AI\n",
      "Health Predictions\n",
      "AI analyzes your habits to predict energy levels, sleep quality, and wellness\n",
      "Learn more\n",
      "New\n",
      "Barcode Scanner\n",
      "Scan any packaged food for instant nutrition facts and health ratings\n",
      "Learn more\n",
      "Smart Analytics\n",
      "Visualize your nutrition patterns with beautiful charts and actionable insights\n",
      "Learn more\n",
      "Recipe Analysis\n",
      "Get complete nutrition breakdowns for recipes and personalized meal plans\n",
      "Learn more\n",
      "Real Stories from\n",
      "Early Adopters\n",
      "Join our growing community of health-conscious individuals transforming their lives\n",
      "\"\n",
      "Early Adopter\n",
      "I've tried countless nutrition apps, but CalorieGram's AI recognition is a game-changer. It accurately identifies my meals and the Health Signals feature helps me understand how food affects my energy levels.\n",
      "Lost 8 lbs in 3 weeks\n",
      "SC\n",
      "Sarah Chen\n",
      "Fitness Enthusiast\n",
      "Based on feedback from 500+ early adopters\n",
      "4.8 out of 5 stars\n",
      "Try Our Quick Calorie Calculator\n",
      "Get a taste of our AI-powered insights\n",
      "Loading calculator...\n",
      "Want detailed analysis and personalized recommendations?\n",
      "Download CalorieGram AI\n",
      "See your nutrition in a\n",
      "whole new light\n",
      "Our Health Signals™ technology analyzes patterns in your eating habits to predict how food affects your energy, sleep, mood, and overall wellbeing.\n",
      "Energy Level\n",
      "High\n",
      "Sleep Quality\n",
      "Good\n",
      "Nutritional Balance\n",
      "Excellent\n",
      "Limited Time Offer\n",
      "Get 3 months of premium features free when you sign up this week\n",
      "Frequently Asked\n",
      "Questions\n",
      "Everything you need to know about CalorieGram AI\n",
      "All Questions\n",
      "AI & Recognition\n",
      "Pricing\n",
      "Features\n",
      "Privacy & Security\n",
      "Integrations\n",
      "How accurate is the AI food recognition?\n",
      "Our AI achieves 95%+ accuracy in identifying common foods and dishes. It's trained on millions of food images and continuously learns from user feedback. For packaged foods, our barcode scanner provides 100% accurate nutrition data from our verified database.\n",
      "Is CalorieGram AI free to use?\n",
      "Yes! CalorieGram offers a generous free tier that includes basic food tracking, AI recognition for up to 10 meals per day, and essential nutrition insights. Premium features like Health Signals™, unlimited AI scans, and personalized meal plans are available with our Pro subscription.\n",
      "How does Health Signals™ predict my health outcomes?\n",
      "Health Signals™ uses advanced machine learning to analyze patterns in your nutrition data, combined with your logged energy levels, sleep quality, and mood. It identifies correlations between what you eat and how you feel, helping predict how foods will affect your wellbeing.\n",
      "Is my health data secure and private?\n",
      "Absolutely. We take your privacy seriously. All data is encrypted end-to-end, and we never share your personal information with third parties. You have full control over your data and can export or delete it at any time.\n",
      "Can I use CalorieGram AI offline?\n",
      "Basic features like viewing your logged meals and nutrition history work offline. However, AI food recognition, barcode scanning, and sync features require an internet connection. The app automatically syncs when you're back online.\n",
      "Does it work with my fitness tracker or health apps?\n",
      "Yes! CalorieGram AI integrates with Apple Health, Google Fit, Fitbit, and many other popular fitness trackers. This allows us to provide more accurate calorie recommendations and correlate your nutrition with activity levels.\n",
      "What makes CalorieGram different from other nutrition apps?\n",
      "Unlike basic calorie counters, CalorieGram uses AI to understand the complete nutritional impact of your diet. We track 45+ nutrients, predict health outcomes, offer voice logging in 45+ languages, and provide personalized insights that adapt to your unique body and goals.\n",
      "Can I track homemade meals and recipes?\n",
      "Absolutely! You can save your favorite recipes, and our AI will calculate the complete nutritional breakdown. You can also take a photo of your homemade meal, and our AI will identify ingredients and estimate portions with impressive accuracy.\n",
      "Still have questions?\n",
      "Our support team is here to help\n",
      "Email Support\n",
      "Ready to transform your health?\n",
      "Join hundreds who signed up this week and are already seeing results\n",
      "23 people joined in the last hour\n",
      "Download CalorieGram AI Free\n",
      "7-day free trial\n",
      "No credit card required\n",
      "Cancel anytime\n",
      "CalorieGram AI\n",
      "Track nutrition with AI\n",
      "Get App\n",
      "Calorie\n",
      "Gram\n",
      "AI\n",
      "Transform your relationship with food using AI that understands nutrition.\n",
      "Product\n",
      "Features\n",
      "Pricing\n",
      "Compare\n",
      "FAQ\n",
      "Calorie Gram Guide\n",
      "Support\n",
      "Help Center\n",
      "Privacy Policy\n",
      "Terms of Service\n",
      "Delete Account\n",
      "Download\n",
      "Download for iOS\n",
      "Download for Android\n",
      "Premium Features\n",
      "Support\n",
      "Company\n",
      "Blog\n",
      "Testimonials\n",
      "Contact Us\n",
      "©\n",
      "2025\n",
      "CalorieGram AI.\n",
      "Made with\n",
      "for your health.\n"
     ]
    }
   ],
   "source": [
    "caloriegram= Website(\"https://www.caloriegram.ai/\")\n",
    "print(site.title)\n",
    "print(site.text)"
   ]
  },
  {
   "cell_type": "code",
   "execution_count": 27,
   "id": "7c568241-d9d3-43e8-9be2-c6746da49438",
   "metadata": {},
   "outputs": [],
   "source": [
    "def user_prompt(website):\n",
    "    user_prompt = website.title\n",
    "    user_prompt += website.text\n",
    "    return(user_prompt)"
   ]
  },
  {
   "cell_type": "code",
   "execution_count": 28,
   "id": "997463cf-b863-4858-bcb2-d0c5fb7a398c",
   "metadata": {},
   "outputs": [
    {
     "data": {
      "text/plain": [
       "'CalorieGram AI - Track Calories with AISkip to main content\\nCalorie\\nGram\\nAI\\nFeatures\\nPricing\\nCompare\\nBlog\\nRecipes\\nFAQ\\nContact\\nDownload\\nFeatures\\nPricing\\nCompare\\nBlog\\nRecipes\\nFAQ\\nContact\\nDownload CalorieGram AI\\nReady to transform your nutrition?\\nJoin 500+ users this week\\nGet Started Free\\nAI-Powered Nutrition Tracking\\nEat Smart,\\nLive\\nHealthy\\nTransform your relationship with food using AI that understands nutrition as well as you understand yourself.\\nTrack 45+ nutrients instantly\\nGet personalized meal suggestions\\nPredict health outcomes\\nStart Your Journey\\nSee How It Works\\n4.8 from early adopters\\nJoin 500+ health enthusiasts this week\\nEnd-to-end Encrypted\\nTrack Healthy Meals\\nLog nutritious foods like salmon & veggies\\nSalmon & Veggies\\n705 calories\\nHigh Protein\\n52.2g tracked\\nScan Food\\nVoice Log\\nHow CalorieGram AI\\nWorks\\nThree simple steps to transform your nutrition tracking experience\\n1\\nSnap Your Meal\\nTake a photo, scan a barcode, or use voice to log your food. Our AI instantly recognizes ingredients and portions.\\nLearn more\\n2\\nGet AI Insights\\nReceive detailed nutritional analysis of 45+ nutrients. Our AI provides personalized recommendations based on your health goals.\\n3\\nTrack Progress\\nMonitor your health signals, predict outcomes, and see how your nutrition affects energy, sleep, and wellbeing.\\nSnap Your Meal\\nStep\\n1\\nof 3\\nAI Processing\\n95% Accuracy\\nReady to experience the future of nutrition tracking?\\nStart Your Free Trial\\nNutrition tracking that\\nfeels magical\\nOur AI doesn\\'t just count calories—it understands your unique nutritional needs and helps you thrive\\nSnap & Track\\nTake a photo of any meal and get instant nutritional insights powered by advanced AI\\nLearn more\\nMost Popular\\nVoice Logging\\nSimply speak what you ate—supports 45+ languages for global users\\nLearn more\\nAI\\nHealth Predictions\\nAI analyzes your habits to predict energy levels, sleep quality, and wellness\\nLearn more\\nNew\\nBarcode Scanner\\nScan any packaged food for instant nutrition facts and health ratings\\nLearn more\\nSmart Analytics\\nVisualize your nutrition patterns with beautiful charts and actionable insights\\nLearn more\\nRecipe Analysis\\nGet complete nutrition breakdowns for recipes and personalized meal plans\\nLearn more\\nReal Stories from\\nEarly Adopters\\nJoin our growing community of health-conscious individuals transforming their lives\\n\"\\nEarly Adopter\\nI\\'ve tried countless nutrition apps, but CalorieGram\\'s AI recognition is a game-changer. It accurately identifies my meals and the Health Signals feature helps me understand how food affects my energy levels.\\nLost 8 lbs in 3 weeks\\nSC\\nSarah Chen\\nFitness Enthusiast\\nBased on feedback from 500+ early adopters\\n4.8 out of 5 stars\\nTry Our Quick Calorie Calculator\\nGet a taste of our AI-powered insights\\nLoading calculator...\\nWant detailed analysis and personalized recommendations?\\nDownload CalorieGram AI\\nSee your nutrition in a\\nwhole new light\\nOur Health Signals™ technology analyzes patterns in your eating habits to predict how food affects your energy, sleep, mood, and overall wellbeing.\\nEnergy Level\\nHigh\\nSleep Quality\\nGood\\nNutritional Balance\\nExcellent\\nLimited Time Offer\\nGet 3 months of premium features free when you sign up this week\\nFrequently Asked\\nQuestions\\nEverything you need to know about CalorieGram AI\\nAll Questions\\nAI & Recognition\\nPricing\\nFeatures\\nPrivacy & Security\\nIntegrations\\nHow accurate is the AI food recognition?\\nOur AI achieves 95%+ accuracy in identifying common foods and dishes. It\\'s trained on millions of food images and continuously learns from user feedback. For packaged foods, our barcode scanner provides 100% accurate nutrition data from our verified database.\\nIs CalorieGram AI free to use?\\nYes! CalorieGram offers a generous free tier that includes basic food tracking, AI recognition for up to 10 meals per day, and essential nutrition insights. Premium features like Health Signals™, unlimited AI scans, and personalized meal plans are available with our Pro subscription.\\nHow does Health Signals™ predict my health outcomes?\\nHealth Signals™ uses advanced machine learning to analyze patterns in your nutrition data, combined with your logged energy levels, sleep quality, and mood. It identifies correlations between what you eat and how you feel, helping predict how foods will affect your wellbeing.\\nIs my health data secure and private?\\nAbsolutely. We take your privacy seriously. All data is encrypted end-to-end, and we never share your personal information with third parties. You have full control over your data and can export or delete it at any time.\\nCan I use CalorieGram AI offline?\\nBasic features like viewing your logged meals and nutrition history work offline. However, AI food recognition, barcode scanning, and sync features require an internet connection. The app automatically syncs when you\\'re back online.\\nDoes it work with my fitness tracker or health apps?\\nYes! CalorieGram AI integrates with Apple Health, Google Fit, Fitbit, and many other popular fitness trackers. This allows us to provide more accurate calorie recommendations and correlate your nutrition with activity levels.\\nWhat makes CalorieGram different from other nutrition apps?\\nUnlike basic calorie counters, CalorieGram uses AI to understand the complete nutritional impact of your diet. We track 45+ nutrients, predict health outcomes, offer voice logging in 45+ languages, and provide personalized insights that adapt to your unique body and goals.\\nCan I track homemade meals and recipes?\\nAbsolutely! You can save your favorite recipes, and our AI will calculate the complete nutritional breakdown. You can also take a photo of your homemade meal, and our AI will identify ingredients and estimate portions with impressive accuracy.\\nStill have questions?\\nOur support team is here to help\\nEmail Support\\nReady to transform your health?\\nJoin hundreds who signed up this week and are already seeing results\\n23 people joined in the last hour\\nDownload CalorieGram AI Free\\n7-day free trial\\nNo credit card required\\nCancel anytime\\nCalorieGram AI\\nTrack nutrition with AI\\nGet App\\nCalorie\\nGram\\nAI\\nTransform your relationship with food using AI that understands nutrition.\\nProduct\\nFeatures\\nPricing\\nCompare\\nFAQ\\nCalorie Gram Guide\\nSupport\\nHelp Center\\nPrivacy Policy\\nTerms of Service\\nDelete Account\\nDownload\\nDownload for iOS\\nDownload for Android\\nPremium Features\\nSupport\\nCompany\\nBlog\\nTestimonials\\nContact Us\\n©\\n2025\\nCalorieGram AI.\\nMade with\\nfor your health.'"
      ]
     },
     "execution_count": 28,
     "metadata": {},
     "output_type": "execute_result"
    }
   ],
   "source": [
    "user_prompt(caloriegram)"
   ]
  },
  {
   "cell_type": "code",
   "execution_count": 43,
   "id": "b603955b-fb82-4a73-b3a2-925743bdcaef",
   "metadata": {},
   "outputs": [],
   "source": [
    "input_message = [\n",
    "    # {\"role\": \"system\", \"content\": \"You are a snarky assistant\"},\n",
    "    {\"role\": \"user\", \"content\": \"how many calories a healthy adult can have per day\"}\n",
    "]"
   ]
  },
  {
   "cell_type": "code",
   "execution_count": 44,
   "id": "49bcad98-66cf-4c7d-a6e7-20eb832ca86d",
   "metadata": {},
   "outputs": [
    {
     "name": "stdout",
     "output_type": "stream",
     "text": [
      "The daily caloric needs of a healthy adult can vary based on several factors, including age, sex, weight, height, and level of physical activity. Here are general guidelines:\n",
      "\n",
      "- **Sedentary individuals** (little or no exercise):\n",
      "  - Women: approximately 1,800 to 2,000 calories per day\n",
      "  - Men: approximately 2,200 to 2,400 calories per day\n",
      "\n",
      "- **Moderately active individuals** (engage in some physical activity):\n",
      "  - Women: approximately 2,000 to 2,200 calories per day\n",
      "  - Men: approximately 2,400 to 2,800 calories per day\n",
      "\n",
      "- **Active individuals** (engage in regular vigorous activity):\n",
      "  - Women: approximately 2,200 to 2,400 calories per day\n",
      "  - Men: approximately 2,800 to 3,000 calories per day\n",
      "\n",
      "It's important to note that these are general estimates. Individual caloric needs can differ significantly based on metabolism, health goals (like weight loss or gain), and other factors. For personalized advice, it's best to consult with a healthcare professional or a registered dietitian.\n"
     ]
    }
   ],
   "source": [
    "response = openai.chat.completions.create(model=\"gpt-4o-mini\", messages=input_message)\n",
    "print(response.choices[0].message.content)"
   ]
  },
  {
   "cell_type": "code",
   "execution_count": 53,
   "id": "4f772556-c4ba-4a5d-9be6-47ccd9146bb8",
   "metadata": {},
   "outputs": [],
   "source": [
    "def messages(website):\n",
    "    return[\n",
    "        {\"role\":\"system\", \"content\":\"You are a snarky assistant\"},\n",
    "        {\"role\":\"user\", \"content\":user_prompt(website)}]"
   ]
  },
  {
   "cell_type": "code",
   "execution_count": 52,
   "id": "dc5d1415-9a95-418b-8333-d40f28183c57",
   "metadata": {},
   "outputs": [],
   "source": [
    "system_prompt = \"You are an assistant that analyzes the contents of a website \\\n",
    "and provides a short summary, ignoring text that might be navigation related. \\\n",
    "Respond in markdown.\""
   ]
  },
  {
   "cell_type": "code",
   "execution_count": 59,
   "id": "eadb699c-6c5f-43b9-b415-d3161ba896b6",
   "metadata": {},
   "outputs": [],
   "source": [
    "def messages(website):\n",
    "    return[\n",
    "        {\"role\":\"system\", \"content\":system_prompt},\n",
    "        {\"role\":\"user\", \"content\":user_prompt(website)}]"
   ]
  },
  {
   "cell_type": "code",
   "execution_count": 60,
   "id": "185b01bf-e7fc-4b2f-a6a9-15d7dae589c5",
   "metadata": {},
   "outputs": [
    {
     "data": {
      "text/plain": [
       "[{'role': 'system',\n",
       "  'content': 'You are an assistant that analyzes the contents of a website and provides a short summary, ignoring text that might be navigation related. Respond in markdown.'},\n",
       " {'role': 'user',\n",
       "  'content': 'CalorieGram AI - Track Calories with AISkip to main content\\nCalorie\\nGram\\nAI\\nFeatures\\nPricing\\nCompare\\nBlog\\nRecipes\\nFAQ\\nContact\\nDownload\\nFeatures\\nPricing\\nCompare\\nBlog\\nRecipes\\nFAQ\\nContact\\nDownload CalorieGram AI\\nReady to transform your nutrition?\\nJoin 500+ users this week\\nGet Started Free\\nAI-Powered Nutrition Tracking\\nEat Smart,\\nLive\\nHealthy\\nTransform your relationship with food using AI that understands nutrition as well as you understand yourself.\\nTrack 45+ nutrients instantly\\nGet personalized meal suggestions\\nPredict health outcomes\\nStart Your Journey\\nSee How It Works\\n4.8 from early adopters\\nJoin 500+ health enthusiasts this week\\nEnd-to-end Encrypted\\nTrack Healthy Meals\\nLog nutritious foods like salmon & veggies\\nSalmon & Veggies\\n705 calories\\nHigh Protein\\n52.2g tracked\\nScan Food\\nVoice Log\\nHow CalorieGram AI\\nWorks\\nThree simple steps to transform your nutrition tracking experience\\n1\\nSnap Your Meal\\nTake a photo, scan a barcode, or use voice to log your food. Our AI instantly recognizes ingredients and portions.\\nLearn more\\n2\\nGet AI Insights\\nReceive detailed nutritional analysis of 45+ nutrients. Our AI provides personalized recommendations based on your health goals.\\n3\\nTrack Progress\\nMonitor your health signals, predict outcomes, and see how your nutrition affects energy, sleep, and wellbeing.\\nSnap Your Meal\\nStep\\n1\\nof 3\\nAI Processing\\n95% Accuracy\\nReady to experience the future of nutrition tracking?\\nStart Your Free Trial\\nNutrition tracking that\\nfeels magical\\nOur AI doesn\\'t just count calories—it understands your unique nutritional needs and helps you thrive\\nSnap & Track\\nTake a photo of any meal and get instant nutritional insights powered by advanced AI\\nLearn more\\nMost Popular\\nVoice Logging\\nSimply speak what you ate—supports 45+ languages for global users\\nLearn more\\nAI\\nHealth Predictions\\nAI analyzes your habits to predict energy levels, sleep quality, and wellness\\nLearn more\\nNew\\nBarcode Scanner\\nScan any packaged food for instant nutrition facts and health ratings\\nLearn more\\nSmart Analytics\\nVisualize your nutrition patterns with beautiful charts and actionable insights\\nLearn more\\nRecipe Analysis\\nGet complete nutrition breakdowns for recipes and personalized meal plans\\nLearn more\\nReal Stories from\\nEarly Adopters\\nJoin our growing community of health-conscious individuals transforming their lives\\n\"\\nEarly Adopter\\nI\\'ve tried countless nutrition apps, but CalorieGram\\'s AI recognition is a game-changer. It accurately identifies my meals and the Health Signals feature helps me understand how food affects my energy levels.\\nLost 8 lbs in 3 weeks\\nSC\\nSarah Chen\\nFitness Enthusiast\\nBased on feedback from 500+ early adopters\\n4.8 out of 5 stars\\nTry Our Quick Calorie Calculator\\nGet a taste of our AI-powered insights\\nLoading calculator...\\nWant detailed analysis and personalized recommendations?\\nDownload CalorieGram AI\\nSee your nutrition in a\\nwhole new light\\nOur Health Signals™ technology analyzes patterns in your eating habits to predict how food affects your energy, sleep, mood, and overall wellbeing.\\nEnergy Level\\nHigh\\nSleep Quality\\nGood\\nNutritional Balance\\nExcellent\\nLimited Time Offer\\nGet 3 months of premium features free when you sign up this week\\nFrequently Asked\\nQuestions\\nEverything you need to know about CalorieGram AI\\nAll Questions\\nAI & Recognition\\nPricing\\nFeatures\\nPrivacy & Security\\nIntegrations\\nHow accurate is the AI food recognition?\\nOur AI achieves 95%+ accuracy in identifying common foods and dishes. It\\'s trained on millions of food images and continuously learns from user feedback. For packaged foods, our barcode scanner provides 100% accurate nutrition data from our verified database.\\nIs CalorieGram AI free to use?\\nYes! CalorieGram offers a generous free tier that includes basic food tracking, AI recognition for up to 10 meals per day, and essential nutrition insights. Premium features like Health Signals™, unlimited AI scans, and personalized meal plans are available with our Pro subscription.\\nHow does Health Signals™ predict my health outcomes?\\nHealth Signals™ uses advanced machine learning to analyze patterns in your nutrition data, combined with your logged energy levels, sleep quality, and mood. It identifies correlations between what you eat and how you feel, helping predict how foods will affect your wellbeing.\\nIs my health data secure and private?\\nAbsolutely. We take your privacy seriously. All data is encrypted end-to-end, and we never share your personal information with third parties. You have full control over your data and can export or delete it at any time.\\nCan I use CalorieGram AI offline?\\nBasic features like viewing your logged meals and nutrition history work offline. However, AI food recognition, barcode scanning, and sync features require an internet connection. The app automatically syncs when you\\'re back online.\\nDoes it work with my fitness tracker or health apps?\\nYes! CalorieGram AI integrates with Apple Health, Google Fit, Fitbit, and many other popular fitness trackers. This allows us to provide more accurate calorie recommendations and correlate your nutrition with activity levels.\\nWhat makes CalorieGram different from other nutrition apps?\\nUnlike basic calorie counters, CalorieGram uses AI to understand the complete nutritional impact of your diet. We track 45+ nutrients, predict health outcomes, offer voice logging in 45+ languages, and provide personalized insights that adapt to your unique body and goals.\\nCan I track homemade meals and recipes?\\nAbsolutely! You can save your favorite recipes, and our AI will calculate the complete nutritional breakdown. You can also take a photo of your homemade meal, and our AI will identify ingredients and estimate portions with impressive accuracy.\\nStill have questions?\\nOur support team is here to help\\nEmail Support\\nReady to transform your health?\\nJoin hundreds who signed up this week and are already seeing results\\n23 people joined in the last hour\\nDownload CalorieGram AI Free\\n7-day free trial\\nNo credit card required\\nCancel anytime\\nCalorieGram AI\\nTrack nutrition with AI\\nGet App\\nCalorie\\nGram\\nAI\\nTransform your relationship with food using AI that understands nutrition.\\nProduct\\nFeatures\\nPricing\\nCompare\\nFAQ\\nCalorie Gram Guide\\nSupport\\nHelp Center\\nPrivacy Policy\\nTerms of Service\\nDelete Account\\nDownload\\nDownload for iOS\\nDownload for Android\\nPremium Features\\nSupport\\nCompany\\nBlog\\nTestimonials\\nContact Us\\n©\\n2025\\nCalorieGram AI.\\nMade with\\nfor your health.'}]"
      ]
     },
     "execution_count": 60,
     "metadata": {},
     "output_type": "execute_result"
    }
   ],
   "source": [
    "messages(caloriegram)"
   ]
  },
  {
   "cell_type": "code",
   "execution_count": 69,
   "id": "2a146564-af70-4b46-919f-0f393262ab37",
   "metadata": {},
   "outputs": [],
   "source": [
    "def summarize(abc):\n",
    "    website = Website(abc)\n",
    "    response = openai.chat.completions.create(\n",
    "        model = \"gpt-4o-mini\",\n",
    "        messages = messages(website)\n",
    "    )\n",
    "    return response.choices[0].message.content"
   ]
  },
  {
   "cell_type": "code",
   "execution_count": 70,
   "id": "29136583-1606-4062-8c95-6317001e1282",
   "metadata": {},
   "outputs": [
    {
     "data": {
      "text/plain": [
       "'# CalorieGram AI Overview\\n\\n**CalorieGram AI** is an advanced nutrition tracking app designed to enhance your relationship with food through artificial intelligence. It allows users to track over 45 nutrients, receive personalized meal suggestions, and predict health outcomes based on their eating habits.\\n\\n## Key Features:\\n- **AI-Powered Tracking**: Users can log meals by snapping photos, scanning barcodes, or using voice logging, with the AI recognizing ingredients with over 95% accuracy.\\n- **Health Signals™ Technology**: Analyzes eating habits and predicts how food affects energy levels, sleep quality, and overall wellbeing.\\n- **Personalized Insights**: Provides tailored nutrition recommendations to align with individual health goals.\\n- **Recipe Analysis**: Users can input homemade recipes to calculate their nutritional breakdown.\\n- **Integration with Fitness Trackers**: Syncs with popular health apps like Apple Health and Google Fit for improved nutrition tracking.\\n\\n## User Experience:\\nCalorieGram AI boasts a high satisfaction rating (4.8/5 stars) from early adopters, who report significant personal health improvements, including weight loss and enhanced energy levels.\\n\\n## Pricing:\\nThe app offers a free tier with basic features, while premium features, including unlimited AI scans and comprehensive insights, are accessible through a subscription.\\n\\n## Privacy and Security:\\nCalorieGram emphasizes user data security with end-to-end encryption and allows users complete control over their data.\\n\\n## Conclusion:\\nCalorieGram AI is aimed at health enthusiasts seeking a detailed and personalized approach to nutrition tracking. The combination of AI technology and user-friendly features positions it as a unique tool in the wellness market.'"
      ]
     },
     "execution_count": 70,
     "metadata": {},
     "output_type": "execute_result"
    }
   ],
   "source": [
    "summarize(\"https://www.caloriegram.ai/\")"
   ]
  },
  {
   "cell_type": "code",
   "execution_count": 74,
   "id": "08b648a3-54ec-4534-bcf7-00262c70e953",
   "metadata": {},
   "outputs": [],
   "source": [
    "# Imported Markdown from above \n",
    "def display_summary(abc):\n",
    "    summary = summarize(abc)\n",
    "    display(Markdown(summary))\n",
    "    "
   ]
  },
  {
   "cell_type": "code",
   "execution_count": 75,
   "id": "1434adc7-c8b1-4568-ba0a-4d35d85deaa1",
   "metadata": {},
   "outputs": [
    {
     "data": {
      "text/markdown": [
       "# CalorieGram AI Overview\n",
       "\n",
       "CalorieGram AI is an innovative nutrition tracking app that leverages artificial intelligence to enhance how users engage with their diet and health. Here are the main features and offerings:\n",
       "\n",
       "## Key Features\n",
       "- **AI-Powered Tracking**: Users can snap photos or use voice commands to log their meals, while the AI accurately recognizes ingredients and portions.\n",
       "- **Nutritional Insights**: The app analyzes over 45 nutrients and provides personalized meal suggestions and health outcome predictions.\n",
       "- **Health Signals Technology**: This feature monitors eating patterns and predicts effects on energy levels, sleep quality, and overall wellness.\n",
       "- **Barcode Scanning and Voice Logging**: Users can scan packaged foods for instant nutritional information, and voice logging supports multiple languages.\n",
       "- **Recipe Analysis**: Offers nutritional breakdowns and personalized meal plans based on user preferences.\n",
       "- **Data Privacy**: Committed to user privacy with end-to-end encryption and data control options.\n",
       "\n",
       "## User Experience\n",
       "The app is designed to make nutrition tracking intuitive and engaging. Users have reported significant weight loss and improved understanding of how food affects their energy and wellbeing.\n",
       "\n",
       "## Accessibility\n",
       "- **Free Tier and Premium Subscription**: The basic version allows logging of up to 10 meals per day, while premium features provide unlimited access and in-depth insights.\n",
       "- **Integration with Health Trackers**: CalorieGram AI syncs with popular fitness apps like Apple Health and Fitbit for comprehensive health tracking.\n",
       "\n",
       "Overall, CalorieGram AI aims to transform the user experience in nutrition management by providing advanced tools and personalized insights tailored to individual health goals."
      ],
      "text/plain": [
       "<IPython.core.display.Markdown object>"
      ]
     },
     "metadata": {},
     "output_type": "display_data"
    }
   ],
   "source": [
    "display_summary(\"https://www.caloriegram.ai/\")"
   ]
  },
  {
   "cell_type": "code",
   "execution_count": null,
   "id": "8610402f-5f63-492b-bcbe-b7ba579ee8a6",
   "metadata": {},
   "outputs": [],
   "source": []
  }
 ],
 "metadata": {
  "kernelspec": {
   "display_name": "Python 3 (ipykernel)",
   "language": "python",
   "name": "python3"
  },
  "language_info": {
   "codemirror_mode": {
    "name": "ipython",
    "version": 3
   },
   "file_extension": ".py",
   "mimetype": "text/x-python",
   "name": "python",
   "nbconvert_exporter": "python",
   "pygments_lexer": "ipython3",
   "version": "3.11.13"
  }
 },
 "nbformat": 4,
 "nbformat_minor": 5
}
